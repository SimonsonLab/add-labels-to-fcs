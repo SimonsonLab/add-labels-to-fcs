{
 "cells": [
  {
   "cell_type": "code",
   "execution_count": 14,
   "id": "db79ab59-dae6-4d5c-833a-166af65d4fa4",
   "metadata": {},
   "outputs": [
    {
     "name": "stdout",
     "output_type": "stream",
     "text": [
      "Hello, my flow cytometry loving friends!\n",
      "\n"
     ]
    }
   ],
   "source": [
    "import pandas as pd\n",
    "from pathlib import Path\n",
    "import add_labels_to_fcs\n",
    "import flowkit as fk\n",
    "import numpy as np\n",
    "import random\n",
    "import matplotlib.pyplot as plt\n",
    "from add_labels_to_fcs import add_labels\n",
    "\n",
    "add_labels_to_fcs.hello()"
   ]
  },
  {
   "cell_type": "code",
   "execution_count": 15,
   "id": "71d2dc0a-b5b6-4067-9185-9d99425183d5",
   "metadata": {},
   "outputs": [],
   "source": [
    "#Generate a simulated FCS file.\n",
    "new_frame = pd.DataFrame()\n",
    "\"\"\"\n",
    "new_frame[('FSC-A', 'FSC')] = [0,1,2,3,4,5,6,7,8,9]\n",
    "new_frame[('SSC-A', 'SSC')] = [0,1,2,3,4,5,6,7,8,9]\n",
    "new_frame[('CD45-A', 'CD45')] = [0,1,2,3,4,5,6,7,8,9]\n",
    "\"\"\"\n",
    "new_frame['SSC'] = [0,1,2,3,4,5,6,7,8,9]\n",
    "new_frame['CD45'] = [0,1,2,3,4,5,6,7,8,9]\n",
    "#add_labels.write_dataframe_as_FCS_file(new_frame, Path('fake.fcs'))\n",
    "add_labels.write_dataframe_as_FCS_file(new_frame, Path('fake.fcs'))"
   ]
  },
  {
   "cell_type": "code",
   "execution_count": 16,
   "id": "0068a9c2-7126-447a-9627-774d5e23ae3e",
   "metadata": {},
   "outputs": [],
   "source": [
    "#Generate fake spreadsheet\n",
    "new_spreadsheet = pd.DataFrame()\n",
    "new_spreadsheet['label'] = [0,1,1,0,1,0,1,11,11,0]\n",
    "new_spreadsheet.to_excel('fake.xlsx', index=False) "
   ]
  },
  {
   "cell_type": "code",
   "execution_count": 17,
   "id": "c63743f0-1ecb-4191-857e-2ec0f8b68270",
   "metadata": {},
   "outputs": [
    {
     "name": "stdout",
     "output_type": "stream",
     "text": [
      "(10, 2)\n"
     ]
    },
    {
     "data": {
      "text/html": [
       "<div>\n",
       "<style scoped>\n",
       "    .dataframe tbody tr th:only-of-type {\n",
       "        vertical-align: middle;\n",
       "    }\n",
       "\n",
       "    .dataframe tbody tr th {\n",
       "        vertical-align: top;\n",
       "    }\n",
       "\n",
       "    .dataframe thead tr th {\n",
       "        text-align: left;\n",
       "    }\n",
       "</style>\n",
       "<table border=\"1\" class=\"dataframe\">\n",
       "  <thead>\n",
       "    <tr>\n",
       "      <th>pnn</th>\n",
       "      <th>SSC</th>\n",
       "      <th>CD45</th>\n",
       "    </tr>\n",
       "    <tr>\n",
       "      <th>pns</th>\n",
       "      <th></th>\n",
       "      <th></th>\n",
       "    </tr>\n",
       "  </thead>\n",
       "  <tbody>\n",
       "    <tr>\n",
       "      <th>0</th>\n",
       "      <td>0.0</td>\n",
       "      <td>0.0</td>\n",
       "    </tr>\n",
       "    <tr>\n",
       "      <th>1</th>\n",
       "      <td>1.0</td>\n",
       "      <td>1.0</td>\n",
       "    </tr>\n",
       "    <tr>\n",
       "      <th>2</th>\n",
       "      <td>2.0</td>\n",
       "      <td>2.0</td>\n",
       "    </tr>\n",
       "    <tr>\n",
       "      <th>3</th>\n",
       "      <td>3.0</td>\n",
       "      <td>3.0</td>\n",
       "    </tr>\n",
       "    <tr>\n",
       "      <th>4</th>\n",
       "      <td>4.0</td>\n",
       "      <td>4.0</td>\n",
       "    </tr>\n",
       "  </tbody>\n",
       "</table>\n",
       "</div>"
      ],
      "text/plain": [
       "pnn  SSC CD45\n",
       "pns          \n",
       "0    0.0  0.0\n",
       "1    1.0  1.0\n",
       "2    2.0  2.0\n",
       "3    3.0  3.0\n",
       "4    4.0  4.0"
      ]
     },
     "execution_count": 17,
     "metadata": {},
     "output_type": "execute_result"
    }
   ],
   "source": [
    "#Test read FCS\n",
    "df = add_labels.return_FCS_as_compensated_dataframe('fake.fcs')\n",
    "print(df.shape)\n",
    "df.head()"
   ]
  },
  {
   "cell_type": "code",
   "execution_count": 18,
   "id": "49f5532d-5c10-490a-a5e8-238228d90282",
   "metadata": {},
   "outputs": [
    {
     "name": "stdout",
     "output_type": "stream",
     "text": [
      "(10, 1)\n"
     ]
    },
    {
     "data": {
      "text/html": [
       "<div>\n",
       "<style scoped>\n",
       "    .dataframe tbody tr th:only-of-type {\n",
       "        vertical-align: middle;\n",
       "    }\n",
       "\n",
       "    .dataframe tbody tr th {\n",
       "        vertical-align: top;\n",
       "    }\n",
       "\n",
       "    .dataframe thead th {\n",
       "        text-align: right;\n",
       "    }\n",
       "</style>\n",
       "<table border=\"1\" class=\"dataframe\">\n",
       "  <thead>\n",
       "    <tr style=\"text-align: right;\">\n",
       "      <th></th>\n",
       "      <th>label</th>\n",
       "    </tr>\n",
       "  </thead>\n",
       "  <tbody>\n",
       "    <tr>\n",
       "      <th>0</th>\n",
       "      <td>0</td>\n",
       "    </tr>\n",
       "    <tr>\n",
       "      <th>1</th>\n",
       "      <td>1</td>\n",
       "    </tr>\n",
       "    <tr>\n",
       "      <th>2</th>\n",
       "      <td>1</td>\n",
       "    </tr>\n",
       "    <tr>\n",
       "      <th>3</th>\n",
       "      <td>0</td>\n",
       "    </tr>\n",
       "    <tr>\n",
       "      <th>4</th>\n",
       "      <td>1</td>\n",
       "    </tr>\n",
       "  </tbody>\n",
       "</table>\n",
       "</div>"
      ],
      "text/plain": [
       "   label\n",
       "0      0\n",
       "1      1\n",
       "2      1\n",
       "3      0\n",
       "4      1"
      ]
     },
     "execution_count": 18,
     "metadata": {},
     "output_type": "execute_result"
    }
   ],
   "source": [
    "ss = add_labels.return_spreadsheet_as_dataframe('fake.xlsx')\n",
    "print(ss.shape)\n",
    "ss.head()"
   ]
  },
  {
   "cell_type": "code",
   "execution_count": 19,
   "id": "7d86eeff-9867-4376-9fef-3e87e6e5122d",
   "metadata": {},
   "outputs": [
    {
     "data": {
      "text/html": [
       "<div>\n",
       "<style scoped>\n",
       "    .dataframe tbody tr th:only-of-type {\n",
       "        vertical-align: middle;\n",
       "    }\n",
       "\n",
       "    .dataframe tbody tr th {\n",
       "        vertical-align: top;\n",
       "    }\n",
       "\n",
       "    .dataframe thead th {\n",
       "        text-align: right;\n",
       "    }\n",
       "</style>\n",
       "<table border=\"1\" class=\"dataframe\">\n",
       "  <thead>\n",
       "    <tr style=\"text-align: right;\">\n",
       "      <th></th>\n",
       "      <th>(label_x-A, label_x)</th>\n",
       "      <th>(label_y-A, label_y)</th>\n",
       "    </tr>\n",
       "  </thead>\n",
       "  <tbody>\n",
       "    <tr>\n",
       "      <th>0</th>\n",
       "      <td>20613</td>\n",
       "      <td>23318</td>\n",
       "    </tr>\n",
       "    <tr>\n",
       "      <th>1</th>\n",
       "      <td>42912</td>\n",
       "      <td>20340</td>\n",
       "    </tr>\n",
       "    <tr>\n",
       "      <th>2</th>\n",
       "      <td>41047</td>\n",
       "      <td>20101</td>\n",
       "    </tr>\n",
       "    <tr>\n",
       "      <th>3</th>\n",
       "      <td>22719</td>\n",
       "      <td>23131</td>\n",
       "    </tr>\n",
       "    <tr>\n",
       "      <th>4</th>\n",
       "      <td>40543</td>\n",
       "      <td>22640</td>\n",
       "    </tr>\n",
       "  </tbody>\n",
       "</table>\n",
       "</div>"
      ],
      "text/plain": [
       "   (label_x-A, label_x)  (label_y-A, label_y)\n",
       "0                 20613                 23318\n",
       "1                 42912                 20340\n",
       "2                 41047                 20101\n",
       "3                 22719                 23131\n",
       "4                 40543                 22640"
      ]
     },
     "execution_count": 19,
     "metadata": {},
     "output_type": "execute_result"
    }
   ],
   "source": [
    "grid = add_labels.return_xy_nodes_for_visualization(ss)\n",
    "grid.head()"
   ]
  },
  {
   "cell_type": "code",
   "execution_count": 20,
   "id": "101c5437-814c-4d17-a0e6-8b32a3301a69",
   "metadata": {},
   "outputs": [
    {
     "data": {
      "text/plain": [
       "<matplotlib.collections.PathCollection at 0x169072390>"
      ]
     },
     "execution_count": 20,
     "metadata": {},
     "output_type": "execute_result"
    },
    {
     "data": {
      "image/png": "[encoded data removed]",
      "text/plain": [
       "<Figure size 640x480 with 1 Axes>"
      ]
     },
     "metadata": {},
     "output_type": "display_data"
    }
   ],
   "source": [
    "plt.scatter(grid[('label_x-A', 'label_x')], grid[('label_y-A', 'label_y')])"
   ]
  },
  {
   "cell_type": "code",
   "execution_count": 21,
   "id": "f0574eb3-451f-47d2-97ab-409dd298672b",
   "metadata": {},
   "outputs": [
    {
     "data": {
      "text/html": [
       "<div>\n",
       "<style scoped>\n",
       "    .dataframe tbody tr th:only-of-type {\n",
       "        vertical-align: middle;\n",
       "    }\n",
       "\n",
       "    .dataframe tbody tr th {\n",
       "        vertical-align: top;\n",
       "    }\n",
       "\n",
       "    .dataframe thead tr th {\n",
       "        text-align: left;\n",
       "    }\n",
       "</style>\n",
       "<table border=\"1\" class=\"dataframe\">\n",
       "  <thead>\n",
       "    <tr>\n",
       "      <th></th>\n",
       "      <th>SSC</th>\n",
       "      <th>CD45</th>\n",
       "      <th>label_x-A</th>\n",
       "      <th>label_y-A</th>\n",
       "    </tr>\n",
       "    <tr>\n",
       "      <th></th>\n",
       "      <th></th>\n",
       "      <th></th>\n",
       "      <th>label_x</th>\n",
       "      <th>label_y</th>\n",
       "    </tr>\n",
       "  </thead>\n",
       "  <tbody>\n",
       "    <tr>\n",
       "      <th>0</th>\n",
       "      <td>0.0</td>\n",
       "      <td>0.0</td>\n",
       "      <td>20613</td>\n",
       "      <td>23318</td>\n",
       "    </tr>\n",
       "    <tr>\n",
       "      <th>1</th>\n",
       "      <td>1.0</td>\n",
       "      <td>1.0</td>\n",
       "      <td>42912</td>\n",
       "      <td>20340</td>\n",
       "    </tr>\n",
       "    <tr>\n",
       "      <th>2</th>\n",
       "      <td>2.0</td>\n",
       "      <td>2.0</td>\n",
       "      <td>41047</td>\n",
       "      <td>20101</td>\n",
       "    </tr>\n",
       "    <tr>\n",
       "      <th>3</th>\n",
       "      <td>3.0</td>\n",
       "      <td>3.0</td>\n",
       "      <td>22719</td>\n",
       "      <td>23131</td>\n",
       "    </tr>\n",
       "    <tr>\n",
       "      <th>4</th>\n",
       "      <td>4.0</td>\n",
       "      <td>4.0</td>\n",
       "      <td>40543</td>\n",
       "      <td>22640</td>\n",
       "    </tr>\n",
       "  </tbody>\n",
       "</table>\n",
       "</div>"
      ],
      "text/plain": [
       "   SSC CD45 label_x-A label_y-A\n",
       "              label_x   label_y\n",
       "0  0.0  0.0     20613     23318\n",
       "1  1.0  1.0     42912     20340\n",
       "2  2.0  2.0     41047     20101\n",
       "3  3.0  3.0     22719     23131\n",
       "4  4.0  4.0     40543     22640"
      ]
     },
     "execution_count": 21,
     "metadata": {},
     "output_type": "execute_result"
    }
   ],
   "source": [
    "composite_df = add_labels.append_columns_to_compensated_dataframe(df, grid)\n",
    "composite_df.head()"
   ]
  },
  {
   "cell_type": "code",
   "execution_count": 22,
   "id": "820a68b2-0246-4a18-9f56-cd84134783b7",
   "metadata": {},
   "outputs": [],
   "source": [
    "add_labels.add_labels_as_grid_to_FCS('fake.fcs', 'fake.xlsx', 'fake with labels as grid.fcs')"
   ]
  },
  {
   "cell_type": "code",
   "execution_count": 23,
   "id": "328aefd5-d907-4876-8cba-6f05586e707f",
   "metadata": {},
   "outputs": [
    {
     "name": "stdout",
     "output_type": "stream",
     "text": [
      "(10, 4)\n"
     ]
    },
    {
     "data": {
      "text/html": [
       "<div>\n",
       "<style scoped>\n",
       "    .dataframe tbody tr th:only-of-type {\n",
       "        vertical-align: middle;\n",
       "    }\n",
       "\n",
       "    .dataframe tbody tr th {\n",
       "        vertical-align: top;\n",
       "    }\n",
       "\n",
       "    .dataframe thead tr th {\n",
       "        text-align: left;\n",
       "    }\n",
       "</style>\n",
       "<table border=\"1\" class=\"dataframe\">\n",
       "  <thead>\n",
       "    <tr>\n",
       "      <th>pnn</th>\n",
       "      <th>SSC</th>\n",
       "      <th>CD45</th>\n",
       "      <th>label_x-A</th>\n",
       "      <th>label_y-A</th>\n",
       "    </tr>\n",
       "    <tr>\n",
       "      <th>pns</th>\n",
       "      <th></th>\n",
       "      <th></th>\n",
       "      <th>label_x</th>\n",
       "      <th>label_y</th>\n",
       "    </tr>\n",
       "  </thead>\n",
       "  <tbody>\n",
       "    <tr>\n",
       "      <th>0</th>\n",
       "      <td>0.0</td>\n",
       "      <td>0.0</td>\n",
       "      <td>20789.0</td>\n",
       "      <td>19796.0</td>\n",
       "    </tr>\n",
       "    <tr>\n",
       "      <th>1</th>\n",
       "      <td>1.0</td>\n",
       "      <td>1.0</td>\n",
       "      <td>40579.0</td>\n",
       "      <td>20240.0</td>\n",
       "    </tr>\n",
       "    <tr>\n",
       "      <th>2</th>\n",
       "      <td>2.0</td>\n",
       "      <td>2.0</td>\n",
       "      <td>42634.0</td>\n",
       "      <td>20230.0</td>\n",
       "    </tr>\n",
       "    <tr>\n",
       "      <th>3</th>\n",
       "      <td>3.0</td>\n",
       "      <td>3.0</td>\n",
       "      <td>22926.0</td>\n",
       "      <td>24001.0</td>\n",
       "    </tr>\n",
       "    <tr>\n",
       "      <th>4</th>\n",
       "      <td>4.0</td>\n",
       "      <td>4.0</td>\n",
       "      <td>39341.0</td>\n",
       "      <td>22981.0</td>\n",
       "    </tr>\n",
       "  </tbody>\n",
       "</table>\n",
       "</div>"
      ],
      "text/plain": [
       "pnn  SSC CD45 label_x-A label_y-A\n",
       "pns             label_x   label_y\n",
       "0    0.0  0.0   20789.0   19796.0\n",
       "1    1.0  1.0   40579.0   20240.0\n",
       "2    2.0  2.0   42634.0   20230.0\n",
       "3    3.0  3.0   22926.0   24001.0\n",
       "4    4.0  4.0   39341.0   22981.0"
      ]
     },
     "execution_count": 23,
     "metadata": {},
     "output_type": "execute_result"
    }
   ],
   "source": [
    "#Test read FCS\n",
    "df = add_labels.return_FCS_as_compensated_dataframe('fake with labels as grid.fcs')\n",
    "print(df.shape)\n",
    "df.head()"
   ]
  },
  {
   "cell_type": "code",
   "execution_count": 24,
   "id": "06e60e7d-872c-4e22-a0aa-ee093f1ee7db",
   "metadata": {},
   "outputs": [],
   "source": [
    "def return_labels_for_visualization(dataframe):\n",
    "    '''\n",
    "    Take columns of labels and changes the column names to (pnn, pns) format.\n",
    "    '''\n",
    "    new_dataframe = pd.DataFrame()\n",
    "    for column in dataframe.columns:\n",
    "        new_dataframe[(column + \"-A\", column)] = dataframe[column]\n",
    "    return new_dataframe"
   ]
  },
  {
   "cell_type": "code",
   "execution_count": 26,
   "id": "6c4a5206-20a3-4f3c-9a5e-32dd0c6fc47d",
   "metadata": {},
   "outputs": [
    {
     "name": "stdout",
     "output_type": "stream",
     "text": [
      "(10, 5)\n"
     ]
    },
    {
     "data": {
      "text/html": [
       "<div>\n",
       "<style scoped>\n",
       "    .dataframe tbody tr th:only-of-type {\n",
       "        vertical-align: middle;\n",
       "    }\n",
       "\n",
       "    .dataframe tbody tr th {\n",
       "        vertical-align: top;\n",
       "    }\n",
       "\n",
       "    .dataframe thead tr th {\n",
       "        text-align: left;\n",
       "    }\n",
       "</style>\n",
       "<table border=\"1\" class=\"dataframe\">\n",
       "  <thead>\n",
       "    <tr>\n",
       "      <th></th>\n",
       "      <th>SSC</th>\n",
       "      <th>CD45</th>\n",
       "      <th>label_x-A</th>\n",
       "      <th>label_y-A</th>\n",
       "      <th>label-A</th>\n",
       "    </tr>\n",
       "    <tr>\n",
       "      <th></th>\n",
       "      <th></th>\n",
       "      <th></th>\n",
       "      <th>label_x</th>\n",
       "      <th>label_y</th>\n",
       "      <th>label</th>\n",
       "    </tr>\n",
       "  </thead>\n",
       "  <tbody>\n",
       "    <tr>\n",
       "      <th>0</th>\n",
       "      <td>0.0</td>\n",
       "      <td>0.0</td>\n",
       "      <td>20789.0</td>\n",
       "      <td>19796.0</td>\n",
       "      <td>0</td>\n",
       "    </tr>\n",
       "    <tr>\n",
       "      <th>1</th>\n",
       "      <td>1.0</td>\n",
       "      <td>1.0</td>\n",
       "      <td>40579.0</td>\n",
       "      <td>20240.0</td>\n",
       "      <td>1</td>\n",
       "    </tr>\n",
       "    <tr>\n",
       "      <th>2</th>\n",
       "      <td>2.0</td>\n",
       "      <td>2.0</td>\n",
       "      <td>42634.0</td>\n",
       "      <td>20230.0</td>\n",
       "      <td>1</td>\n",
       "    </tr>\n",
       "    <tr>\n",
       "      <th>3</th>\n",
       "      <td>3.0</td>\n",
       "      <td>3.0</td>\n",
       "      <td>22926.0</td>\n",
       "      <td>24001.0</td>\n",
       "      <td>0</td>\n",
       "    </tr>\n",
       "    <tr>\n",
       "      <th>4</th>\n",
       "      <td>4.0</td>\n",
       "      <td>4.0</td>\n",
       "      <td>39341.0</td>\n",
       "      <td>22981.0</td>\n",
       "      <td>1</td>\n",
       "    </tr>\n",
       "  </tbody>\n",
       "</table>\n",
       "</div>"
      ],
      "text/plain": [
       "   SSC CD45 label_x-A label_y-A label-A\n",
       "              label_x   label_y   label\n",
       "0  0.0  0.0   20789.0   19796.0       0\n",
       "1  1.0  1.0   40579.0   20240.0       1\n",
       "2  2.0  2.0   42634.0   20230.0       1\n",
       "3  3.0  3.0   22926.0   24001.0       0\n",
       "4  4.0  4.0   39341.0   22981.0       1"
      ]
     },
     "execution_count": 26,
     "metadata": {},
     "output_type": "execute_result"
    }
   ],
   "source": [
    "composite_df = add_labels.append_columns_to_compensated_dataframe(df, add_labels.return_labels_with_fixed_column_names(ss))\n",
    "print(composite_df.shape)\n",
    "composite_df.head()"
   ]
  },
  {
   "cell_type": "code",
   "execution_count": 27,
   "id": "3e1ddef9-60dd-449a-bbf0-72c39f5f866e",
   "metadata": {},
   "outputs": [],
   "source": [
    "add_labels.write_dataframe_as_FCS_file(composite_df, Path('faker.fcs'))"
   ]
  },
  {
   "cell_type": "code",
   "execution_count": null,
   "id": "8b2bf9eb-9eb6-4f6c-8e44-5c3637989ed8",
   "metadata": {},
   "outputs": [],
   "source": []
  },
  {
   "cell_type": "code",
   "execution_count": null,
   "id": "48bdb345-e3a7-4187-bd79-4dc093c10332",
   "metadata": {},
   "outputs": [],
   "source": []
  },
  {
   "cell_type": "code",
   "execution_count": null,
   "id": "454bc505-19db-45da-8db9-ef64c782751b",
   "metadata": {},
   "outputs": [],
   "source": []
  }
 ],
 "metadata": {
  "kernelspec": {
   "display_name": "Python 3 (ipykernel)",
   "language": "python",
   "name": "python3"
  },
  "language_info": {
   "codemirror_mode": {
    "name": "ipython",
    "version": 3
   },
   "file_extension": ".py",
   "mimetype": "text/x-python",
   "name": "python",
   "nbconvert_exporter": "python",
   "pygments_lexer": "ipython3",
   "version": "3.11.10"
  }
 },
 "nbformat": 4,
 "nbformat_minor": 5
}
